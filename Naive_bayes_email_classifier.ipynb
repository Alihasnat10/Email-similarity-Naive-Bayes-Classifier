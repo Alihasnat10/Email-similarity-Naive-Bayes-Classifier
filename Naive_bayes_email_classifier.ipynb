{
 "cells": [
  {
   "cell_type": "markdown",
   "metadata": {},
   "source": [
    "# Email Similarity\n",
    "\n",
    "### SUPERVISED LEARNING: ADVANCED CLASSIFICATION"
   ]
  },
  {
   "cell_type": "markdown",
   "metadata": {},
   "source": [
    "#### In this project, We will use scikit-learn’s Naive Bayes implementation on several different datasets. By reporting the accuracy of the classifier, we can find which datasets are harder to distinguish."
   ]
  },
  {
   "cell_type": "code",
   "execution_count": 1,
   "metadata": {},
   "outputs": [
    {
     "name": "stderr",
     "output_type": "stream",
     "text": [
      "Downloading 20news dataset. This may take a few minutes.\n",
      "Downloading dataset from https://ndownloader.figshare.com/files/5975967 (14 MB)\n"
     ]
    }
   ],
   "source": [
    "from sklearn.datasets import fetch_20newsgroups\n",
    "from sklearn.naive_bayes import MultinomialNB\n",
    "from sklearn.feature_extraction.text import CountVectorizer\n",
    "\n",
    "emails = fetch_20newsgroups()"
   ]
  },
  {
   "cell_type": "code",
   "execution_count": 3,
   "metadata": {},
   "outputs": [
    {
     "data": {
      "text/plain": [
       "['alt.atheism',\n",
       " 'comp.graphics',\n",
       " 'comp.os.ms-windows.misc',\n",
       " 'comp.sys.ibm.pc.hardware',\n",
       " 'comp.sys.mac.hardware',\n",
       " 'comp.windows.x',\n",
       " 'misc.forsale',\n",
       " 'rec.autos',\n",
       " 'rec.motorcycles',\n",
       " 'rec.sport.baseball',\n",
       " 'rec.sport.hockey',\n",
       " 'sci.crypt',\n",
       " 'sci.electronics',\n",
       " 'sci.med',\n",
       " 'sci.space',\n",
       " 'soc.religion.christian',\n",
       " 'talk.politics.guns',\n",
       " 'talk.politics.mideast',\n",
       " 'talk.politics.misc',\n",
       " 'talk.religion.misc']"
      ]
     },
     "execution_count": 3,
     "metadata": {},
     "output_type": "execute_result"
    }
   ],
   "source": [
    "#categories of emails\n",
    "emails.target_names"
   ]
  },
  {
   "cell_type": "code",
   "execution_count": 5,
   "metadata": {},
   "outputs": [],
   "source": [
    "'''we want to see how effective out classifier is in finding the difference \n",
    "between a baseball email and a hockey email'''\n",
    "emails = fetch_20newsgroups(categories = ['rec.sport.baseball', 'rec.sport.hockey'])"
   ]
  },
  {
   "cell_type": "code",
   "execution_count": 6,
   "metadata": {},
   "outputs": [
    {
     "data": {
      "text/plain": [
       "'From: mmb@lamar.ColoState.EDU (Michael Burger)\\nSubject: More TV Info\\nDistribution: na\\nNntp-Posting-Host: lamar.acns.colostate.edu\\nOrganization: Colorado State University, Fort Collins, CO  80523\\nLines: 36\\n\\nUnited States Coverage:\\nSunday April 18\\n  N.J./N.Y.I. at Pittsburgh - 1:00 EDT to Eastern Time Zone\\n  ABC - Gary Thorne and Bill Clement\\n\\n  St. Louis at Chicago - 12:00 CDT and 11:00 MDT - to Central/Mountain Zones\\n  ABC - Mike Emerick and Jim Schoenfeld\\n\\n  Los Angeles at Calgary - 12:00 PDT and 11:00 ADT - to Pacific/Alaskan Zones\\n  ABC - Al Michaels and John Davidson\\n\\nTuesday, April 20\\n  N.J./N.Y.I. at Pittsburgh - 7:30 EDT Nationwide\\n  ESPN - Gary Thorne and Bill Clement\\n\\nThursday, April 22 and Saturday April 24\\n  To Be Announced - 7:30 EDT Nationwide\\n  ESPN - To Be Announced\\n\\n\\nCanadian Coverage:\\n\\nSunday, April 18\\n  Buffalo at Boston - 7:30 EDT Nationwide\\n  TSN - ???\\n\\nTuesday, April 20\\n  N.J.D./N.Y. at Pittsburgh - 7:30 EDT Nationwide\\n  TSN - ???\\n\\nWednesday, April 21\\n  St. Louis at Chicago - 8:30 EDT Nationwide\\n  TSN - ???\\n\\n\\n\\n'"
      ]
     },
     "execution_count": 6,
     "metadata": {},
     "output_type": "execute_result"
    }
   ],
   "source": [
    "#printing email at index 5\n",
    "emails.data[5]"
   ]
  },
  {
   "cell_type": "code",
   "execution_count": 8,
   "metadata": {},
   "outputs": [
    {
     "data": {
      "text/plain": [
       "1"
      ]
     },
     "execution_count": 8,
     "metadata": {},
     "output_type": "execute_result"
    }
   ],
   "source": [
    "#label corresponding to the 5th email\n",
    "emails.target[5]"
   ]
  },
  {
   "cell_type": "code",
   "execution_count": 10,
   "metadata": {},
   "outputs": [],
   "source": [
    "#training variable\n",
    "train_emails = fetch_20newsgroups(categories = ['rec.sport.baseball', 'rec.sport.hockey'],\n",
    "                                  subset = 'train',\n",
    "                                  shuffle = True,\n",
    "                                  random_state = 108)\n"
   ]
  },
  {
   "cell_type": "code",
   "execution_count": 11,
   "metadata": {},
   "outputs": [],
   "source": [
    "#testing variable\n",
    "test_emails = fetch_20newsgroups(categories = ['rec.sport.baseball', 'rec.sport.hockey'],\n",
    "                                  subset = 'test',\n",
    "                                  shuffle = True,\n",
    "                                  random_state = 108)"
   ]
  },
  {
   "cell_type": "code",
   "execution_count": 12,
   "metadata": {},
   "outputs": [],
   "source": [
    "#transforming emails to list of word counts\n",
    "counter = CountVectorizer()"
   ]
  },
  {
   "cell_type": "code",
   "execution_count": 14,
   "metadata": {},
   "outputs": [
    {
     "data": {
      "text/plain": [
       "CountVectorizer(analyzer='word', binary=False, decode_error='strict',\n",
       "                dtype=<class 'numpy.int64'>, encoding='utf-8', input='content',\n",
       "                lowercase=True, max_df=1.0, max_features=None, min_df=1,\n",
       "                ngram_range=(1, 1), preprocessor=None, stop_words=None,\n",
       "                strip_accents=None, token_pattern='(?u)\\\\b\\\\w\\\\w+\\\\b',\n",
       "                tokenizer=None, vocabulary=None)"
      ]
     },
     "execution_count": 14,
     "metadata": {},
     "output_type": "execute_result"
    }
   ],
   "source": [
    "#telling counter what words can exist in our emails\n",
    "counter.fit(test_emails.data + train_emails.data)"
   ]
  },
  {
   "cell_type": "code",
   "execution_count": 16,
   "metadata": {},
   "outputs": [],
   "source": [
    "train_counts = counter.transform(train_emails.data)"
   ]
  },
  {
   "cell_type": "code",
   "execution_count": 18,
   "metadata": {},
   "outputs": [],
   "source": [
    "test_counts = counter.transform(test_emails.data)"
   ]
  },
  {
   "cell_type": "code",
   "execution_count": 20,
   "metadata": {},
   "outputs": [],
   "source": [
    "#Naive Bayes Classifier\n",
    "classifier = MultinomialNB()"
   ]
  },
  {
   "cell_type": "code",
   "execution_count": 21,
   "metadata": {},
   "outputs": [
    {
     "data": {
      "text/plain": [
       "MultinomialNB(alpha=1.0, class_prior=None, fit_prior=True)"
      ]
     },
     "execution_count": 21,
     "metadata": {},
     "output_type": "execute_result"
    }
   ],
   "source": [
    "classifier.fit(train_counts, train_emails.target)"
   ]
  },
  {
   "cell_type": "code",
   "execution_count": 22,
   "metadata": {},
   "outputs": [
    {
     "data": {
      "text/plain": [
       "0.9723618090452262"
      ]
     },
     "execution_count": 22,
     "metadata": {},
     "output_type": "execute_result"
    }
   ],
   "source": [
    "classifier.score(test_counts, test_emails.target)"
   ]
  }
 ],
 "metadata": {
  "kernelspec": {
   "display_name": "Python 3",
   "language": "python",
   "name": "python3"
  },
  "language_info": {
   "codemirror_mode": {
    "name": "ipython",
    "version": 3
   },
   "file_extension": ".py",
   "mimetype": "text/x-python",
   "name": "python",
   "nbconvert_exporter": "python",
   "pygments_lexer": "ipython3",
   "version": "3.7.6"
  }
 },
 "nbformat": 4,
 "nbformat_minor": 4
}
